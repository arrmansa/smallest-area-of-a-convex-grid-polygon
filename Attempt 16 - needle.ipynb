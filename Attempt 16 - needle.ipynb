{
 "cells": [
  {
   "cell_type": "code",
   "execution_count": 1,
   "id": "a24939f6",
   "metadata": {},
   "outputs": [],
   "source": [
    "from numba import jit\n",
    "import numpy as np\n",
    "\n",
    "@jit(nogil=True, fastmath=True)\n",
    "def create_polygon_jit(points, n, target_n, gridsize, search_range, curr_area, reached_max_i, val_max_j, reached_min_j, min_area, soln):\n",
    "    if n >= 3:\n",
    "        #Solution found\n",
    "        if n == target_n:\n",
    "            min_area[0] = curr_area\n",
    "            soln[:] = points.copy()\n",
    "            return True\n",
    "        \n",
    "        #Stage variables\n",
    "        reached_max_i = reached_max_i or (points[n-1][0] == gridsize - 1)\n",
    "        if val_max_j < 0:\n",
    "            if points[n-2][1] > points[n-1][1]:\n",
    "                val_max_j = points[n-2][1]\n",
    "        reached_min_j = reached_min_j or (reached_max_i and (points[n-2][1] < points[n-1][1]))\n",
    "\n",
    "    if not reached_max_i:\n",
    "        #stage 1,2 i (only move ahead)\n",
    "        min_i = points[n-1][0]\n",
    "        max_i = min(gridsize, points[n-1][0] + search_range + 1)\n",
    "        if val_max_j < 0:\n",
    "            #stage 1 j (can't do anything)\n",
    "            min_j = max(-gridsize, points[n-1][1] - search_range)\n",
    "            max_j = min(gridsize, points[n-1][1] + search_range + 1)\n",
    "        else:\n",
    "            #stage 2 j (only move down)\n",
    "            min_j = max(val_max_j-gridsize-1, points[n-1][1] - search_range)\n",
    "            max_j = points[n-1][1] + 1\n",
    "    else:\n",
    "        #stage 3,4 i (only move back)\n",
    "        min_i = max(1, points[n-1][0] - search_range)\n",
    "        max_i = points[n-1][0] + 1\n",
    "        if not reached_min_j:\n",
    "            #stage 3 j (can't do anything)\n",
    "            min_j = max(val_max_j-gridsize-1, points[n-1][1] - search_range)\n",
    "            max_j = min(val_max_j, points[n-1][1] + search_range + 1)\n",
    "        else:\n",
    "            #stage 4 j (only move up)\n",
    "            min_j = points[n-1][1]\n",
    "            max_j = min(0, points[n-1][1] + search_range + 1)\n",
    "\n",
    "    \n",
    "    if n>=2:\n",
    "        x1, y1 = points[n-2][0]-points[n-1][0], points[n-2][1]-points[n-1][1]\n",
    "        \n",
    "    for i in range(min_i, max_i):\n",
    "        min_j_use = min_j\n",
    "        max_j_use = max_j\n",
    "        if n>=2:\n",
    "            x2 = i-points[n-1][0]\n",
    "            if x1 > 0: #< 180 degree convex\n",
    "                min_j_use = max(min_j, points[n-1][1]+((x2*y1)//x1))\n",
    "            elif x1 < 0: #< 180 degree convex\n",
    "                max_j_use = min(max_j_use, points[n-1][1]-((x2*y1)//x1))\n",
    "            if points[n-1][0] > 0: # 0,0 area\n",
    "                max_j_use = min(max_j,1+(i*points[n-1][1])//points[n-1][0])\n",
    "        for j in range(min_j_use, max_j_use):\n",
    "            if n>=2:\n",
    "                y2 = j-points[n-1][1]\n",
    "                if x1*y2-x2*y1<=0:#< 180 degree convex\n",
    "                    continue\n",
    "                if i != gridsize - 1:#acute only at ends\n",
    "                    if x1*x2+y1*y2>0:\n",
    "                        continue\n",
    "                    if x1*y2-x2*y1>2:#almost 180 degree\n",
    "                        continue\n",
    "                add_area = i*points[n-1][1]-j*points[n-1][0] # 0,0 area\n",
    "                if add_area <= 0:\n",
    "                    continue\n",
    "                if curr_area + add_area>= min_area[0]:\n",
    "                    continue\n",
    "            points[n][0], points[n][1] = i, j\n",
    "            result = create_polygon_jit(points, n+1, target_n, gridsize, search_range, curr_area+add_area, reached_max_i, val_max_j, reached_min_j, min_area, soln)\n",
    "    points[n][0], points[n][1] = 0,0 #not needed, but nice\n",
    "    return True"
   ]
  },
  {
   "cell_type": "code",
   "execution_count": 2,
   "id": "3894d419",
   "metadata": {},
   "outputs": [
    {
     "name": "stdout",
     "output_type": "stream",
     "text": [
      "11.44 seconds, 215 area\n",
      "points: [[0, 0], [0, 1], [1, 1], [3, 0], [6, -2], [13, -7], [17, -10], [22, -14], [28, -19], [29, -20], [29, -21], [28, -21], [26, -20], [21, -17], [18, -15], [11, -10], [7, -7], [2, -3], [1, -2]]\n",
      "12.12 seconds, 225 area\n",
      "points: [[0, 0], [0, 1], [1, 1], [3, 0], [10, -4], [13, -6], [20, -11], [24, -14], [29, -18], [30, -19], [30, -20], [29, -20], [26, -19], [24, -18], [19, -15], [16, -13], [12, -10], [7, -6], [1, -1]]\n",
      "8.16 seconds, 213 area\n",
      "points: [[0, 0], [0, 1], [1, 1], [3, 0], [8, -3], [16, -8], [19, -10], [26, -15], [30, -18], [31, -19], [31, -20], [30, -20], [27, -19], [25, -18], [20, -15], [17, -13], [10, -8], [6, -5], [1, -1]]\n",
      "10.99 seconds, 225 area\n",
      "points: [[0, 0], [1, 0], [4, -1], [6, -2], [11, -5], [19, -10], [22, -12], [26, -15], [31, -19], [32, -20], [32, -21], [31, -21], [28, -20], [26, -19], [21, -16], [18, -14], [11, -9], [7, -6], [1, -1]]\n",
      "10.0 seconds, 225 area\n",
      "points: [[0, 0], [0, 1], [1, 1], [3, 0], [12, -5], [17, -8], [25, -13], [28, -15], [32, -18], [33, -19], [33, -20], [32, -20], [29, -19], [27, -18], [20, -14], [15, -11], [12, -9], [5, -4], [1, -1]]\n",
      "7.44 seconds, 213 area\n",
      "points: [[0, 0], [1, 0], [4, -1], [6, -2], [13, -6], [18, -9], [26, -14], [29, -16], [33, -19], [34, -20], [34, -21], [33, -21], [30, -20], [28, -19], [23, -16], [15, -11], [12, -9], [5, -4], [1, -1]]\n",
      "8.68 seconds, 219 area\n",
      "points: [[0, 0], [1, 0], [4, -1], [9, -3], [11, -4], [18, -8], [23, -11], [31, -16], [34, -18], [35, -19], [35, -20], [34, -20], [31, -19], [29, -18], [20, -13], [13, -9], [8, -6], [5, -4], [1, -1]]\n",
      "7.94 seconds, 213 area\n",
      "points: [[0, 0], [1, 0], [3, -1], [10, -5], [15, -8], [23, -13], [26, -15], [30, -18], [35, -22], [36, -23], [36, -24], [35, -24], [33, -23], [28, -20], [20, -15], [17, -13], [10, -8], [6, -5], [1, -1]]\n",
      "9.12 seconds, 225 area\n",
      "points: [[0, 0], [0, 1], [1, 1], [6, 0], [10, -1], [17, -3], [27, -6], [30, -7], [35, -9], [37, -10], [37, -11], [36, -11], [31, -10], [22, -8], [18, -7], [11, -5], [8, -4], [3, -2], [1, -1]]\n",
      "7.99 seconds, 215 area\n",
      "points: [[0, 0], [1, 0], [3, -1], [6, -3], [13, -8], [17, -11], [26, -18], [31, -22], [37, -27], [38, -28], [38, -29], [37, -29], [35, -28], [32, -26], [28, -23], [19, -16], [14, -12], [8, -7], [1, -1]]\n"
     ]
    }
   ],
   "source": [
    "for gridsize in range(30,40):\n",
    "    import time\n",
    "    n = 19\n",
    "    points = np.array([(0,0)]*n) #List([(0,0)]*n)\n",
    "    results = []\n",
    "    soln = points.copy()\n",
    "    doublearea = np.array([2*gridsize**2])\n",
    "    start = time.perf_counter()\n",
    "    _ = create_polygon_jit(points, 1, n, gridsize, 11, 0, False, -1, False, doublearea, soln)\n",
    "    print(round(time.perf_counter()-start, 2), \"seconds,\", doublearea[0], \"area\")\n",
    "    if doublearea[0] == 213:\n",
    "        shape = soln.tolist()\n",
    "    print(\"points:\", soln.tolist())"
   ]
  },
  {
   "cell_type": "code",
   "execution_count": 3,
   "id": "437d0ff4",
   "metadata": {},
   "outputs": [
    {
     "data": {
      "image/png": "[encoded data removed]",
      "text/plain": [
       "<Figure size 576x576 with 1 Axes>"
      ]
     },
     "metadata": {
      "needs_background": "light"
     },
     "output_type": "display_data"
    }
   ],
   "source": [
    "import matplotlib.pyplot as plt\n",
    "plt.rcParams['figure.figsize'] = [8, 8]\n",
    "i,j = zip(*shape)\n",
    "i = list(i) + [i[0]]\n",
    "j = list(j) + [j[0]]\n",
    "plt.plot(i,j)\n",
    "plt.scatter(i,j)\n",
    "plt.show()"
   ]
  }
 ],
 "metadata": {
  "kernelspec": {
   "display_name": "Python 3 (ipykernel)",
   "language": "python",
   "name": "python3"
  },
  "language_info": {
   "codemirror_mode": {
    "name": "ipython",
    "version": 3
   },
   "file_extension": ".py",
   "mimetype": "text/x-python",
   "name": "python",
   "nbconvert_exporter": "python",
   "pygments_lexer": "ipython3",
   "version": "3.7.10"
  }
 },
 "nbformat": 4,
 "nbformat_minor": 5
}
