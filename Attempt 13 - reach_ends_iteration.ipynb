{
 "cells": [
  {
   "cell_type": "code",
   "execution_count": 1,
   "id": "a24939f6",
   "metadata": {},
   "outputs": [],
   "source": [
    "from numba import jit\n",
    "import numpy as np\n",
    "\n",
    "@jit(nogil=True, fastmath=True)\n",
    "def create_polygon_jit(points, n, target_n, gridsize, search_range, curr_area, reached_max_i, val_max_j, reached_min_j, min_area, soln):\n",
    "    if n >= 3:\n",
    "        #Solution found\n",
    "        if n == target_n:\n",
    "            min_area[0] = curr_area\n",
    "            soln[:] = points.copy()\n",
    "            return True\n",
    "        \n",
    "        #Stage variables\n",
    "        reached_max_i = reached_max_i or (points[n-1][0] == gridsize - 1)\n",
    "        if val_max_j < 0:\n",
    "            if points[n-2][1] > points[n-1][1]:\n",
    "                val_max_j = points[n-2][1]\n",
    "        reached_min_j = reached_min_j or (reached_max_i and (points[n-2][1] < points[n-1][1]))\n",
    "\n",
    "    if not reached_max_i:\n",
    "        #stage 1,2 i (only move ahead)\n",
    "        min_i = points[n-1][0]\n",
    "        max_i = min(gridsize, points[n-1][0] + search_range + 1)\n",
    "        if val_max_j < 0:\n",
    "            #stage 1 j (can't do anything)\n",
    "            min_j = max(-gridsize, points[n-1][1] - search_range)\n",
    "            max_j = min(gridsize, points[n-1][1] + search_range + 1)\n",
    "        else:\n",
    "            #stage 2 j (only move down)\n",
    "            min_j = max(val_max_j-gridsize-1, points[n-1][1] - search_range)\n",
    "            max_j = points[n-1][1] + 1\n",
    "    else:\n",
    "        #stage 3,4 i (only move back)\n",
    "        min_i = max(1, points[n-1][0] - search_range)\n",
    "        max_i = points[n-1][0] + 1\n",
    "        if not reached_min_j:\n",
    "            #stage 3 j (can't do anything)\n",
    "            min_j = max(val_max_j-gridsize-1, points[n-1][1] - search_range)\n",
    "            max_j = min(val_max_j, points[n-1][1] + search_range + 1)\n",
    "        else:\n",
    "            #stage 4 j (only move up)\n",
    "            min_j = points[n-1][1]\n",
    "            max_j = min(0, points[n-1][1] + search_range + 1)\n",
    "\n",
    "    \n",
    "    if n>=2:\n",
    "        x1, y1 = points[n-2][0]-points[n-1][0], points[n-2][1]-points[n-1][1]\n",
    "        \n",
    "    for i in range(min_i, max_i):\n",
    "        min_j_use = min_j\n",
    "        max_j_use = max_j\n",
    "        if n>=2:\n",
    "            x2 = i-points[n-1][0]\n",
    "            if x1 > 0: #< 180 degree convex\n",
    "                min_j_use = max(min_j, points[n-1][1]+((x2*y1)//x1))\n",
    "            if points[n-1][0] > 0: # 0,0 area\n",
    "                max_j_use = min(max_j,1+(i*points[n-1][1])//points[n-1][0])\n",
    "        for j in range(min_j_use, max_j_use):\n",
    "            if n>=2:\n",
    "                y2 = j-points[n-1][1]\n",
    "                if x1*y2-x2*y1<=0:#< 180 degree convex\n",
    "                    continue\n",
    "                if i != gridsize - 1:#acute only at ends\n",
    "                    if x1*x2+y1*y2>0:\n",
    "                        continue\n",
    "                add_area = i*points[n-1][1]-j*points[n-1][0] # 0,0 area\n",
    "                if add_area <= 0:\n",
    "                    continue\n",
    "                if curr_area + add_area>= min_area[0]:\n",
    "                    continue\n",
    "            points[n][0], points[n][1] = i, j\n",
    "            result = create_polygon_jit(points, n+1, target_n, gridsize, search_range, curr_area+add_area, reached_max_i, val_max_j, reached_min_j, min_area, soln)\n",
    "    points[n][0], points[n][1] = 0,0 #not needed, but nice\n",
    "    return True"
   ]
  },
  {
   "cell_type": "code",
   "execution_count": 2,
   "id": "3894d419",
   "metadata": {},
   "outputs": [
    {
     "name": "stdout",
     "output_type": "stream",
     "text": [
      "76.23 seconds, 548 area\n",
      "points: [[0, 0], [0, 1], [1, 3], [2, 4], [4, 5], [7, 6], [8, 6], [11, 5], [13, 4], [16, 2], [17, 1], [19, -2], [20, -4], [21, -7], [21, -8], [20, -10], [19, -11], [17, -12], [14, -13], [13, -13], [10, -12], [8, -11], [5, -9], [4, -8], [2, -5], [1, -3]]\n"
     ]
    }
   ],
   "source": [
    "import time\n",
    "n = 26\n",
    "gridsize = 22\n",
    "points = np.array([(0,0)]*n) #List([(0,0)]*n)\n",
    "results = []\n",
    "soln = points.copy()\n",
    "doublearea = np.array([2*gridsize**2])\n",
    "start = time.perf_counter()\n",
    "_ = create_polygon_jit(points, 1, n, gridsize, 3, 0, False, -1, False, doublearea, soln)\n",
    "print(round(time.perf_counter()-start, 2), \"seconds,\", doublearea[0], \"area\")\n",
    "shape = soln.tolist()\n",
    "print(\"points:\", shape)"
   ]
  },
  {
   "cell_type": "code",
   "execution_count": 3,
   "id": "437d0ff4",
   "metadata": {},
   "outputs": [
    {
     "data": {
      "image/png": "[encoded data removed]",
      "text/plain": [
       "<Figure size 576x576 with 1 Axes>"
      ]
     },
     "metadata": {
      "needs_background": "light"
     },
     "output_type": "display_data"
    }
   ],
   "source": [
    "import matplotlib.pyplot as plt\n",
    "plt.rcParams['figure.figsize'] = [8, 8]\n",
    "i,j = zip(*shape)\n",
    "i = list(i) + [i[0]]\n",
    "j = list(j) + [j[0]]\n",
    "plt.plot(i,j)\n",
    "plt.scatter(i,j)\n",
    "plt.show()"
   ]
  }
 ],
 "metadata": {
  "kernelspec": {
   "display_name": "Python 3 (ipykernel)",
   "language": "python",
   "name": "python3"
  },
  "language_info": {
   "codemirror_mode": {
    "name": "ipython",
    "version": 3
   },
   "file_extension": ".py",
   "mimetype": "text/x-python",
   "name": "python",
   "nbconvert_exporter": "python",
   "pygments_lexer": "ipython3",
   "version": "3.7.10"
  }
 },
 "nbformat": 4,
 "nbformat_minor": 5
}
